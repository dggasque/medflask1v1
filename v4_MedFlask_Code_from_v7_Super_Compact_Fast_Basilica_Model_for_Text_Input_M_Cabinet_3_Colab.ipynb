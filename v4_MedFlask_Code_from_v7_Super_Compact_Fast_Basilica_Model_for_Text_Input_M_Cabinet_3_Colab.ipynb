{
  "nbformat": 4,
  "nbformat_minor": 0,
  "metadata": {
    "colab": {
      "name": "v4 MedFlask Code from v7 Super_Compact Fast Basilica Model for Text_Input M_Cabinet_3 Colab.ipynb",
      "provenance": [],
      "collapsed_sections": []
    },
    "kernelspec": {
      "name": "python3",
      "display_name": "Python 3"
    }
  },
  "cells": [
    {
      "cell_type": "code",
      "metadata": {
        "id": "RlZE0rDluVJk",
        "colab_type": "code",
        "outputId": "86fa4482-f7ce-4a41-911f-677834151849",
        "colab": {
          "base_uri": "https://localhost:8080/",
          "height": 326
        }
      },
      "source": [
        "# install basilica\n",
        "!pip install basilica"
      ],
      "execution_count": 1,
      "outputs": [
        {
          "output_type": "stream",
          "text": [
            "Collecting basilica\n",
            "  Downloading https://files.pythonhosted.org/packages/68/19/6216f1c0ad6d0f738bd1061cb5c65097021b41f3891046fac87bc4c4e1ae/basilica-0.2.8.tar.gz\n",
            "Requirement already satisfied: requests in /usr/local/lib/python3.6/dist-packages (from basilica) (2.21.0)\n",
            "Requirement already satisfied: six in /usr/local/lib/python3.6/dist-packages (from basilica) (1.12.0)\n",
            "Requirement already satisfied: Pillow in /usr/local/lib/python3.6/dist-packages (from basilica) (4.3.0)\n",
            "Requirement already satisfied: idna<2.9,>=2.5 in /usr/local/lib/python3.6/dist-packages (from requests->basilica) (2.8)\n",
            "Requirement already satisfied: urllib3<1.25,>=1.21.1 in /usr/local/lib/python3.6/dist-packages (from requests->basilica) (1.24.3)\n",
            "Requirement already satisfied: chardet<3.1.0,>=3.0.2 in /usr/local/lib/python3.6/dist-packages (from requests->basilica) (3.0.4)\n",
            "Requirement already satisfied: certifi>=2017.4.17 in /usr/local/lib/python3.6/dist-packages (from requests->basilica) (2019.11.28)\n",
            "Requirement already satisfied: olefile in /usr/local/lib/python3.6/dist-packages (from Pillow->basilica) (0.46)\n",
            "Building wheels for collected packages: basilica\n",
            "  Building wheel for basilica (setup.py) ... \u001b[?25l\u001b[?25hdone\n",
            "  Created wheel for basilica: filename=basilica-0.2.8-cp36-none-any.whl size=4710 sha256=444f8999128cf0dbddcc5d1ed07fa6514bcd0bad834bf9e38c62db287cd038ce\n",
            "  Stored in directory: /root/.cache/pip/wheels/31/18/9f/46f6face8baf98e31b52bf91a0d76930ec76860f9e9211104d\n",
            "Successfully built basilica\n",
            "Installing collected packages: basilica\n",
            "Successfully installed basilica-0.2.8\n"
          ],
          "name": "stdout"
        }
      ]
    },
    {
      "cell_type": "code",
      "metadata": {
        "id": "pUoQFjQR1h3n",
        "colab_type": "code",
        "colab": {}
      },
      "source": [
        "# Import The Libraries & Packages\n",
        "import basilica\n",
        "import numpy as np\n",
        "import pandas as pd\n",
        "from scipy import spatial"
      ],
      "execution_count": 0,
      "outputs": []
    },
    {
      "cell_type": "code",
      "metadata": {
        "id": "7Wfb-5C6TEUL",
        "colab_type": "code",
        "colab": {}
      },
      "source": [
        "# user input\n",
        "user_input = \"text, Relaxed, Violet, Aroused, Creative, Happy, Energetic, Flowery, Diesel\""
      ],
      "execution_count": 0,
      "outputs": []
    },
    {
      "cell_type": "code",
      "metadata": {
        "id": "m0OXthCnWmT-",
        "colab_type": "code",
        "outputId": "057f6917-4c5a-4bce-a138-f80e0c9001d2",
        "colab": {
          "base_uri": "https://localhost:8080/",
          "height": 217
        }
      },
      "source": [
        "# download the data into the current working directory/folder\n",
        "!wget https://raw.githubusercontent.com/MedCabinet/ML_Machine_Learning_Files/master/med1.csv"
      ],
      "execution_count": 4,
      "outputs": [
        {
          "output_type": "stream",
          "text": [
            "--2020-01-05 17:44:57--  https://raw.githubusercontent.com/MedCabinet/ML_Machine_Learning_Files/master/med1.csv\n",
            "Resolving raw.githubusercontent.com (raw.githubusercontent.com)... 151.101.0.133, 151.101.64.133, 151.101.128.133, ...\n",
            "Connecting to raw.githubusercontent.com (raw.githubusercontent.com)|151.101.0.133|:443... connected.\n",
            "HTTP request sent, awaiting response... 200 OK\n",
            "Length: 1267451 (1.2M) [text/plain]\n",
            "Saving to: ‘med1.csv’\n",
            "\n",
            "med1.csv            100%[===================>]   1.21M  --.-KB/s    in 0.1s    \n",
            "\n",
            "2020-01-05 17:44:58 (9.97 MB/s) - ‘med1.csv’ saved [1267451/1267451]\n",
            "\n"
          ],
          "name": "stdout"
        }
      ]
    },
    {
      "cell_type": "code",
      "metadata": {
        "id": "7tAkYE5-2Cuv",
        "colab_type": "code",
        "outputId": "352f0e00-d09c-41cd-e40f-5618260048e3",
        "colab": {
          "base_uri": "https://localhost:8080/",
          "height": 308
        }
      },
      "source": [
        "# get pickled trained embeddings for med cultivars\n",
        "!wget https://github.com/lineality/4.4_Build_files/raw/master/medembedv2.pkl"
      ],
      "execution_count": 5,
      "outputs": [
        {
          "output_type": "stream",
          "text": [
            "--2020-01-05 17:44:58--  https://github.com/lineality/4.4_Build_files/raw/master/medembedv2.pkl\n",
            "Resolving github.com (github.com)... 140.82.114.3\n",
            "Connecting to github.com (github.com)|140.82.114.3|:443... connected.\n",
            "HTTP request sent, awaiting response... 302 Found\n",
            "Location: https://raw.githubusercontent.com/lineality/4.4_Build_files/master/medembedv2.pkl [following]\n",
            "--2020-01-05 17:44:58--  https://raw.githubusercontent.com/lineality/4.4_Build_files/master/medembedv2.pkl\n",
            "Resolving raw.githubusercontent.com (raw.githubusercontent.com)... 151.101.0.133, 151.101.64.133, 151.101.128.133, ...\n",
            "Connecting to raw.githubusercontent.com (raw.githubusercontent.com)|151.101.0.133|:443... connected.\n",
            "HTTP request sent, awaiting response... 200 OK\n",
            "Length: 16288303 (16M) [application/octet-stream]\n",
            "Saving to: ‘medembedv2.pkl’\n",
            "\n",
            "medembedv2.pkl      100%[===================>]  15.53M  32.1MB/s    in 0.5s    \n",
            "\n",
            "2020-01-05 17:44:59 (32.1 MB/s) - ‘medembedv2.pkl’ saved [16288303/16288303]\n",
            "\n"
          ],
          "name": "stdout"
        }
      ]
    },
    {
      "cell_type": "code",
      "metadata": {
        "id": "CIgTJzih1r6l",
        "colab_type": "code",
        "colab": {}
      },
      "source": [
        "# put the data into a dataframe named df\n",
        "df = pd.read_csv('med1.csv')"
      ],
      "execution_count": 0,
      "outputs": []
    },
    {
      "cell_type": "code",
      "metadata": {
        "id": "VKDjJB0-ytDG",
        "colab_type": "code",
        "colab": {}
      },
      "source": [
        "#unpickling file of embedded cultivar descriptions\n",
        "unpickled_df_test = pd.read_pickle(\"./medembedv2.pkl\")"
      ],
      "execution_count": 0,
      "outputs": []
    },
    {
      "cell_type": "markdown",
      "metadata": {
        "id": "n0Ah87WuWXIq",
        "colab_type": "text"
      },
      "source": [
        "# Version where everything happens in one \"predict\" function"
      ]
    },
    {
      "cell_type": "code",
      "metadata": {
        "id": "-asun6GZCvb9",
        "colab_type": "code",
        "colab": {}
      },
      "source": [
        "def predict(user_input):\n",
        "\n",
        "  # Part 1\n",
        "  # a function to calculate_user_text_embedding\n",
        "  # to save the embedding value in session memory\n",
        "  user_input_embedding = 0\n",
        "\n",
        "  def calculate_user_text_embedding(input, user_input_embedding):\n",
        "\n",
        "    # setting a string of two sentences for the algo to compare\n",
        "    sentences = [input]\n",
        "\n",
        "    # calculating embedding for both user_entered_text and for features\n",
        "    with basilica.Connection('36a370e3-becb-99f5-93a0-a92344e78eab') as c:\n",
        "      user_input_embedding = list(c.embed_sentences(sentences))\n",
        "    \n",
        "    return user_input_embedding\n",
        "\n",
        "  # run the function to save the embedding value in session memory\n",
        "  user_input_embedding = calculate_user_text_embedding(user_input, user_input_embedding)\n",
        "\n",
        "\n",
        "\n",
        "\n",
        "  # part 2\n",
        "  score = 0\n",
        "\n",
        "  def score_user_input_from_stored_embedding_from_stored_values(input, score, row1, user_input_embedding):\n",
        "\n",
        "    # obtains pre-calculated values from a pickled dataframe of arrays\n",
        "    embedding_stored = unpickled_df_test.loc[row1, 0]\n",
        "    \n",
        "    # calculates the similarity of user_text vs. product description\n",
        "    score = 1 - spatial.distance.cosine(embedding_stored, user_input_embedding)\n",
        "\n",
        "    # returns a variable that can be used outside of the function\n",
        "    return score\n",
        "\n",
        "\n",
        "\n",
        "  # Part 3\n",
        "  for i in range(2351):\n",
        "    # calls the function to set the value of 'score'\n",
        "    # which is the score of the user input\n",
        "    score = score_user_input_from_stored_embedding_from_stored_values(user_input, score, i, user_input_embedding)\n",
        "    \n",
        "    #stores the score in the dataframe\n",
        "    df.loc[i,'score'] = score\n",
        "\n",
        "\n",
        "  # Part 4\n",
        "  output = df['Strain'].groupby(df['score']).value_counts().nlargest(5, keep='last')\n",
        "  output_string = str(output)\n",
        "\n",
        "\n",
        "  # Part 5: the output\n",
        "  return output_string"
      ],
      "execution_count": 0,
      "outputs": []
    },
    {
      "cell_type": "code",
      "metadata": {
        "id": "JhA7-T7rUGzN",
        "colab_type": "code",
        "colab": {
          "base_uri": "https://localhost:8080/",
          "height": 55
        },
        "outputId": "bd5f09d5-3db3-4da1-b303-e4c27809d786"
      },
      "source": [
        "predict(user_input)"
      ],
      "execution_count": 9,
      "outputs": [
        {
          "output_type": "execute_result",
          "data": {
            "text/plain": [
              "'score     Strain        \\n0.905756  B-Witched         2\\n0.983573  98-White-Widow    1\\n0.969837  Purple-Diesel     1\\n0.964103  Blue-Monster      1\\n0.962950  Deadhead-Og       1\\nName: Strain, dtype: int64'"
            ]
          },
          "metadata": {
            "tags": []
          },
          "execution_count": 9
        }
      ]
    },
    {
      "cell_type": "markdown",
      "metadata": {
        "id": "ffqJxmmxW8cP",
        "colab_type": "text"
      },
      "source": [
        "# Super-inclusive function version\n",
        "3 cells, two steps\n",
        "1. user_input = \"user med description\"\n",
        "2. predict(user_input)\n"
      ]
    },
    {
      "cell_type": "code",
      "metadata": {
        "id": "-J2xSevYXUcQ",
        "colab_type": "code",
        "colab": {}
      },
      "source": [
        "# user input\n",
        "user_input = \"text, Relaxed, Violet, Aroused, Creative, Happy, Energetic, Flowery, Diesel\""
      ],
      "execution_count": 0,
      "outputs": []
    },
    {
      "cell_type": "code",
      "metadata": {
        "id": "mb_helY8W8jB",
        "colab_type": "code",
        "colab": {}
      },
      "source": [
        "def predict(user_input):\n",
        "\n",
        "  # install basilica\n",
        "  !pip install basilica\n",
        "\n",
        "  import basilica\n",
        "  import numpy as np\n",
        "  import pandas as pd\n",
        "  from scipy import spatial\n",
        "\n",
        "  # get data\n",
        "  !wget https://raw.githubusercontent.com/MedCabinet/ML_Machine_Learning_Files/master/med1.csv\n",
        "  # turn data into dataframe\n",
        "  df = pd.read_csv('med1.csv')\n",
        "\n",
        "  # get pickled trained embeddings for med cultivars\n",
        "  !wget https://github.com/lineality/4.4_Build_files/raw/master/medembedv2.pkl\n",
        "  #unpickling file of embedded cultivar descriptions\n",
        "  unpickled_df_test = pd.read_pickle(\"./medembedv2.pkl\")\n",
        "\n",
        "\n",
        "\n",
        "\n",
        "\n",
        "  # Part 1\n",
        "  # maybe make a function to perform the last few steps\n",
        "\n",
        "  # a function to calculate_user_text_embedding\n",
        "  # to save the embedding value in session memory\n",
        "  user_input_embedding = 0\n",
        "\n",
        "  def calculate_user_text_embedding(input, user_input_embedding):\n",
        "\n",
        "    # setting a string of two sentences for the algo to compare\n",
        "    sentences = [input]\n",
        "\n",
        "    # calculating embedding for both user_entered_text and for features\n",
        "    with basilica.Connection('36a370e3-becb-99f5-93a0-a92344e78eab') as c:\n",
        "      user_input_embedding = list(c.embed_sentences(sentences))\n",
        "    \n",
        "    return user_input_embedding\n",
        "\n",
        "\n",
        "  # run the function to save the embedding value in session memory\n",
        "  user_input_embedding = calculate_user_text_embedding(user_input, user_input_embedding)\n",
        "\n",
        "\n",
        "\n",
        "\n",
        "  # part 2\n",
        "  score = 0\n",
        "\n",
        "  def score_user_input_from_stored_embedding_from_stored_values(input, score, row1, user_input_embedding):\n",
        "\n",
        "    # obtains pre-calculated values from a pickled dataframe of arrays\n",
        "    embedding_stored = unpickled_df_test.loc[row1, 0]\n",
        "    \n",
        "    # calculates the similarity of user_text vs. product description\n",
        "    score = 1 - spatial.distance.cosine(embedding_stored, user_input_embedding)\n",
        "\n",
        "    # returns a variable that can be used outside of the function\n",
        "    return score\n",
        "\n",
        "\n",
        "  # Part 3\n",
        "  for i in range(2351):\n",
        "    # calls the function to set the value of 'score'\n",
        "    # which is the score of the user input\n",
        "    score = score_user_input_from_stored_embedding_from_stored_values(user_input, score, i, user_input_embedding)\n",
        "    \n",
        "    #stores the score in the dataframe\n",
        "    df.loc[i,'score'] = score\n",
        "\n",
        "  # Part 4\n",
        "  output = df['Strain'].groupby(df['score']).value_counts().nlargest(5, keep='last')\n",
        "  output_string = str(output)\n",
        "\n",
        "  # Part 5: output\n",
        "  return output_string"
      ],
      "execution_count": 0,
      "outputs": []
    },
    {
      "cell_type": "code",
      "metadata": {
        "id": "QK5IE-RwYAEA",
        "colab_type": "code",
        "colab": {
          "base_uri": "https://localhost:8080/",
          "height": 710
        },
        "outputId": "17d66779-1bf4-44bb-b0d8-910a4860a29e"
      },
      "source": [
        "predict(user_input)"
      ],
      "execution_count": 12,
      "outputs": [
        {
          "output_type": "stream",
          "text": [
            "Requirement already satisfied: basilica in /usr/local/lib/python3.6/dist-packages (0.2.8)\n",
            "Requirement already satisfied: six in /usr/local/lib/python3.6/dist-packages (from basilica) (1.12.0)\n",
            "Requirement already satisfied: Pillow in /usr/local/lib/python3.6/dist-packages (from basilica) (4.3.0)\n",
            "Requirement already satisfied: requests in /usr/local/lib/python3.6/dist-packages (from basilica) (2.21.0)\n",
            "Requirement already satisfied: olefile in /usr/local/lib/python3.6/dist-packages (from Pillow->basilica) (0.46)\n",
            "Requirement already satisfied: urllib3<1.25,>=1.21.1 in /usr/local/lib/python3.6/dist-packages (from requests->basilica) (1.24.3)\n",
            "Requirement already satisfied: idna<2.9,>=2.5 in /usr/local/lib/python3.6/dist-packages (from requests->basilica) (2.8)\n",
            "Requirement already satisfied: certifi>=2017.4.17 in /usr/local/lib/python3.6/dist-packages (from requests->basilica) (2019.11.28)\n",
            "Requirement already satisfied: chardet<3.1.0,>=3.0.2 in /usr/local/lib/python3.6/dist-packages (from requests->basilica) (3.0.4)\n",
            "--2020-01-05 17:45:04--  https://raw.githubusercontent.com/MedCabinet/ML_Machine_Learning_Files/master/med1.csv\n",
            "Resolving raw.githubusercontent.com (raw.githubusercontent.com)... 151.101.0.133, 151.101.64.133, 151.101.128.133, ...\n",
            "Connecting to raw.githubusercontent.com (raw.githubusercontent.com)|151.101.0.133|:443... connected.\n",
            "HTTP request sent, awaiting response... 200 OK\n",
            "Length: 1267451 (1.2M) [text/plain]\n",
            "Saving to: ‘med1.csv.1’\n",
            "\n",
            "med1.csv.1          100%[===================>]   1.21M  --.-KB/s    in 0.06s   \n",
            "\n",
            "2020-01-05 17:45:04 (19.7 MB/s) - ‘med1.csv.1’ saved [1267451/1267451]\n",
            "\n",
            "--2020-01-05 17:45:05--  https://github.com/lineality/4.4_Build_files/raw/master/medembedv2.pkl\n",
            "Resolving github.com (github.com)... 192.30.253.112\n",
            "Connecting to github.com (github.com)|192.30.253.112|:443... connected.\n",
            "HTTP request sent, awaiting response... 302 Found\n",
            "Location: https://raw.githubusercontent.com/lineality/4.4_Build_files/master/medembedv2.pkl [following]\n",
            "--2020-01-05 17:45:05--  https://raw.githubusercontent.com/lineality/4.4_Build_files/master/medembedv2.pkl\n",
            "Resolving raw.githubusercontent.com (raw.githubusercontent.com)... 151.101.0.133, 151.101.64.133, 151.101.128.133, ...\n",
            "Connecting to raw.githubusercontent.com (raw.githubusercontent.com)|151.101.0.133|:443... connected.\n",
            "HTTP request sent, awaiting response... 200 OK\n",
            "Length: 16288303 (16M) [application/octet-stream]\n",
            "Saving to: ‘medembedv2.pkl.1’\n",
            "\n",
            "medembedv2.pkl.1    100%[===================>]  15.53M  --.-KB/s    in 0.1s    \n",
            "\n",
            "2020-01-05 17:45:05 (108 MB/s) - ‘medembedv2.pkl.1’ saved [16288303/16288303]\n",
            "\n"
          ],
          "name": "stdout"
        },
        {
          "output_type": "execute_result",
          "data": {
            "text/plain": [
              "'score     Strain        \\n0.905756  B-Witched         2\\n0.983573  98-White-Widow    1\\n0.969837  Purple-Diesel     1\\n0.964103  Blue-Monster      1\\n0.962950  Deadhead-Og       1\\nName: Strain, dtype: int64'"
            ]
          },
          "metadata": {
            "tags": []
          },
          "execution_count": 12
        }
      ]
    },
    {
      "cell_type": "markdown",
      "metadata": {
        "id": "Ij5tQ2gdZ81C",
        "colab_type": "text"
      },
      "source": [
        "# one-cell version"
      ]
    },
    {
      "cell_type": "code",
      "metadata": {
        "id": "8IICKdEJZ8Ls",
        "colab_type": "code",
        "colab": {
          "base_uri": "https://localhost:8080/",
          "height": 710
        },
        "outputId": "b653d41e-42c9-4c87-e2a6-e83303befd24"
      },
      "source": [
        "# user input\n",
        "user_input = \"text, Relaxed, Violet, Aroused, Creative, Happy, Energetic, Flowery, Diesel\"\n",
        "\n",
        "# ominbus function\n",
        "def predict(user_input):\n",
        "\n",
        "  # install basilica\n",
        "  !pip install basilica\n",
        "\n",
        "  import basilica\n",
        "  import numpy as np\n",
        "  import pandas as pd\n",
        "  from scipy import spatial\n",
        "\n",
        "  # get data\n",
        "  !wget https://raw.githubusercontent.com/MedCabinet/ML_Machine_Learning_Files/master/med1.csv\n",
        "  # turn data into dataframe\n",
        "  df = pd.read_csv('med1.csv')\n",
        "\n",
        "  # get pickled trained embeddings for med cultivars\n",
        "  !wget https://github.com/lineality/4.4_Build_files/raw/master/medembedv2.pkl\n",
        "  #unpickling file of embedded cultivar descriptions\n",
        "  unpickled_df_test = pd.read_pickle(\"./medembedv2.pkl\")\n",
        "\n",
        "\n",
        "\n",
        "\n",
        "\n",
        "  # Part 1\n",
        "  # maybe make a function to perform the last few steps\n",
        "\n",
        "  # a function to calculate_user_text_embedding\n",
        "  # to save the embedding value in session memory\n",
        "  user_input_embedding = 0\n",
        "\n",
        "  def calculate_user_text_embedding(input, user_input_embedding):\n",
        "\n",
        "    # setting a string of two sentences for the algo to compare\n",
        "    sentences = [input]\n",
        "\n",
        "    # calculating embedding for both user_entered_text and for features\n",
        "    with basilica.Connection('36a370e3-becb-99f5-93a0-a92344e78eab') as c:\n",
        "      user_input_embedding = list(c.embed_sentences(sentences))\n",
        "    \n",
        "    return user_input_embedding\n",
        "\n",
        "  # run the function to save the embedding value in session memory\n",
        "  user_input_embedding = calculate_user_text_embedding(user_input, user_input_embedding)\n",
        "\n",
        "\n",
        "\n",
        "\n",
        "  # part 2\n",
        "  score = 0\n",
        "\n",
        "  def score_user_input_from_stored_embedding_from_stored_values(input, score, row1, user_input_embedding):\n",
        "\n",
        "    # obtains pre-calculated values from a pickled dataframe of arrays\n",
        "    embedding_stored = unpickled_df_test.loc[row1, 0]\n",
        "    \n",
        "    # calculates the similarity of user_text vs. product description\n",
        "    score = 1 - spatial.distance.cosine(embedding_stored, user_input_embedding)\n",
        "\n",
        "    # returns a variable that can be used outside of the function\n",
        "    return score\n",
        "\n",
        "\n",
        "  # Part 3\n",
        "  for i in range(2351):\n",
        "    # calls the function to set the value of 'score'\n",
        "    # which is the score of the user input\n",
        "    score = score_user_input_from_stored_embedding_from_stored_values(user_input, score, i, user_input_embedding)\n",
        "    \n",
        "    #stores the score in the dataframe\n",
        "    df.loc[i,'score'] = score\n",
        "\n",
        "  # Part 4\n",
        "  output = df['Strain'].groupby(df['score']).value_counts().nlargest(5, keep='last')\n",
        "  output_string = str(output)\n",
        "\n",
        "  # Part 5: output\n",
        "  return output_string\n",
        "\n",
        "predict(user_input)"
      ],
      "execution_count": 13,
      "outputs": [
        {
          "output_type": "stream",
          "text": [
            "Requirement already satisfied: basilica in /usr/local/lib/python3.6/dist-packages (0.2.8)\n",
            "Requirement already satisfied: Pillow in /usr/local/lib/python3.6/dist-packages (from basilica) (4.3.0)\n",
            "Requirement already satisfied: six in /usr/local/lib/python3.6/dist-packages (from basilica) (1.12.0)\n",
            "Requirement already satisfied: requests in /usr/local/lib/python3.6/dist-packages (from basilica) (2.21.0)\n",
            "Requirement already satisfied: olefile in /usr/local/lib/python3.6/dist-packages (from Pillow->basilica) (0.46)\n",
            "Requirement already satisfied: chardet<3.1.0,>=3.0.2 in /usr/local/lib/python3.6/dist-packages (from requests->basilica) (3.0.4)\n",
            "Requirement already satisfied: certifi>=2017.4.17 in /usr/local/lib/python3.6/dist-packages (from requests->basilica) (2019.11.28)\n",
            "Requirement already satisfied: urllib3<1.25,>=1.21.1 in /usr/local/lib/python3.6/dist-packages (from requests->basilica) (1.24.3)\n",
            "Requirement already satisfied: idna<2.9,>=2.5 in /usr/local/lib/python3.6/dist-packages (from requests->basilica) (2.8)\n",
            "--2020-01-05 17:45:09--  https://raw.githubusercontent.com/MedCabinet/ML_Machine_Learning_Files/master/med1.csv\n",
            "Resolving raw.githubusercontent.com (raw.githubusercontent.com)... 151.101.0.133, 151.101.64.133, 151.101.128.133, ...\n",
            "Connecting to raw.githubusercontent.com (raw.githubusercontent.com)|151.101.0.133|:443... connected.\n",
            "HTTP request sent, awaiting response... 200 OK\n",
            "Length: 1267451 (1.2M) [text/plain]\n",
            "Saving to: ‘med1.csv.2’\n",
            "\n",
            "med1.csv.2          100%[===================>]   1.21M  --.-KB/s    in 0.1s    \n",
            "\n",
            "2020-01-05 17:45:09 (10.1 MB/s) - ‘med1.csv.2’ saved [1267451/1267451]\n",
            "\n",
            "--2020-01-05 17:45:10--  https://github.com/lineality/4.4_Build_files/raw/master/medembedv2.pkl\n",
            "Resolving github.com (github.com)... 192.30.253.112\n",
            "Connecting to github.com (github.com)|192.30.253.112|:443... connected.\n",
            "HTTP request sent, awaiting response... 302 Found\n",
            "Location: https://raw.githubusercontent.com/lineality/4.4_Build_files/master/medembedv2.pkl [following]\n",
            "--2020-01-05 17:45:10--  https://raw.githubusercontent.com/lineality/4.4_Build_files/master/medembedv2.pkl\n",
            "Resolving raw.githubusercontent.com (raw.githubusercontent.com)... 151.101.0.133, 151.101.64.133, 151.101.128.133, ...\n",
            "Connecting to raw.githubusercontent.com (raw.githubusercontent.com)|151.101.0.133|:443... connected.\n",
            "HTTP request sent, awaiting response... 200 OK\n",
            "Length: 16288303 (16M) [application/octet-stream]\n",
            "Saving to: ‘medembedv2.pkl.2’\n",
            "\n",
            "medembedv2.pkl.2    100%[===================>]  15.53M  30.8MB/s    in 0.5s    \n",
            "\n",
            "2020-01-05 17:45:11 (30.8 MB/s) - ‘medembedv2.pkl.2’ saved [16288303/16288303]\n",
            "\n"
          ],
          "name": "stdout"
        },
        {
          "output_type": "execute_result",
          "data": {
            "text/plain": [
              "'score     Strain        \\n0.905756  B-Witched         2\\n0.983573  98-White-Widow    1\\n0.969837  Purple-Diesel     1\\n0.964103  Blue-Monster      1\\n0.962950  Deadhead-Og       1\\nName: Strain, dtype: int64'"
            ]
          },
          "metadata": {
            "tags": []
          },
          "execution_count": 13
        }
      ]
    },
    {
      "cell_type": "code",
      "metadata": {
        "id": "UaC6ZqSeBZMC",
        "colab_type": "code",
        "colab": {
          "base_uri": "https://localhost:8080/",
          "height": 72
        },
        "outputId": "dc85ce6c-dc06-4473-d622-7646d688e0f2"
      },
      "source": [
        "# user input\n",
        "user_input = \"text, Relaxed, Violet, Aroused, Creative, Happy, Energetic, Flowery, Diesel\"\n",
        "\n",
        "# ominbus function\n",
        "def predict(user_input):\n",
        "\n",
        "  # install basilica\n",
        "  #!pip install basilica\n",
        "\n",
        "  import basilica\n",
        "  import numpy as np\n",
        "  import pandas as pd\n",
        "  from scipy import spatial\n",
        "\n",
        "  # get data\n",
        "  #!wget https://raw.githubusercontent.com/MedCabinet/ML_Machine_Learning_Files/master/med1.csv\n",
        "  # turn data into dataframe\n",
        "  df = pd.read_csv('med1.csv')\n",
        "\n",
        "  # get pickled trained embeddings for med cultivars\n",
        "  #!wget https://github.com/lineality/4.4_Build_files/raw/master/medembedv2.pkl\n",
        "  #unpickling file of embedded cultivar descriptions\n",
        "  unpickled_df_test = pd.read_pickle(\"./medembedv2.pkl\")\n",
        "\n",
        "\n",
        "\n",
        "\n",
        "\n",
        "  # Part 1\n",
        "  # maybe make a function to perform the last few steps\n",
        "\n",
        "  # a function to calculate_user_text_embedding\n",
        "  # to save the embedding value in session memory\n",
        "  user_input_embedding = 0\n",
        "\n",
        "  def calculate_user_text_embedding(input, user_input_embedding):\n",
        "\n",
        "    # setting a string of two sentences for the algo to compare\n",
        "    sentences = [input]\n",
        "\n",
        "    # calculating embedding for both user_entered_text and for features\n",
        "    with basilica.Connection('36a370e3-becb-99f5-93a0-a92344e78eab') as c:\n",
        "      user_input_embedding = list(c.embed_sentences(sentences))\n",
        "    \n",
        "    return user_input_embedding\n",
        "\n",
        "  # run the function to save the embedding value in session memory\n",
        "  user_input_embedding = calculate_user_text_embedding(user_input, user_input_embedding)\n",
        "\n",
        "\n",
        "\n",
        "\n",
        "  # part 2\n",
        "  score = 0\n",
        "\n",
        "  def score_user_input_from_stored_embedding_from_stored_values(input, score, row1, user_input_embedding):\n",
        "\n",
        "    # obtains pre-calculated values from a pickled dataframe of arrays\n",
        "    embedding_stored = unpickled_df_test.loc[row1, 0]\n",
        "    \n",
        "    # calculates the similarity of user_text vs. product description\n",
        "    score = 1 - spatial.distance.cosine(embedding_stored, user_input_embedding)\n",
        "\n",
        "    # returns a variable that can be used outside of the function\n",
        "    return score\n",
        "\n",
        "\n",
        "  # Part 3\n",
        "  for i in range(2351):\n",
        "    # calls the function to set the value of 'score'\n",
        "    # which is the score of the user input\n",
        "    score = score_user_input_from_stored_embedding_from_stored_values(user_input, score, i, user_input_embedding)\n",
        "    \n",
        "    #stores the score in the dataframe\n",
        "    df.loc[i,'score'] = score\n",
        "\n",
        "  # Part 4\n",
        "  output = df['Strain'].groupby(df['score']).value_counts().nlargest(5, keep='last')\n",
        "  #print(output)\n",
        "  #print(output[1:])\n",
        "  output_string = str(output)\n",
        "  #print(type(output))\n",
        "  #print(output.shape)\n",
        "  #print(output_string)\n",
        "  import re\n",
        "  output_regex = re.sub(r'[^a-zA-Z ]', '', output_string)\n",
        "  print(output_regex)\n",
        "  output_string_clipped = output_regex[26:-27]\n",
        "  print(output_string_clipped)\n",
        "  # Part 5: output\n",
        "  return output_string_clipped\n",
        "\n",
        "predict(user_input)"
      ],
      "execution_count": 14,
      "outputs": [
        {
          "output_type": "stream",
          "text": [
            "score     Strain          BWitched           WhiteWidow      PurpleDiesel       BlueMonster        DeadheadOg       Name Strain dtype int\n",
            "BWitched           WhiteWidow      PurpleDiesel       BlueMonster        DeadheadOg \n"
          ],
          "name": "stdout"
        },
        {
          "output_type": "execute_result",
          "data": {
            "text/plain": [
              "'BWitched           WhiteWidow      PurpleDiesel       BlueMonster        DeadheadOg '"
            ]
          },
          "metadata": {
            "tags": []
          },
          "execution_count": 14
        }
      ]
    },
    {
      "cell_type": "code",
      "metadata": {
        "id": "GMm9zkA5FpAS",
        "colab_type": "code",
        "colab": {}
      },
      "source": [
        "# this next version fixes the incorrect first listed prediction (why was it showing that?)"
      ],
      "execution_count": 0,
      "outputs": []
    },
    {
      "cell_type": "code",
      "metadata": {
        "id": "ytoKcGFxOR4n",
        "colab_type": "code",
        "colab": {
          "base_uri": "https://localhost:8080/",
          "height": 35
        },
        "outputId": "d301692e-923e-4f55-88ff-d7565b1ab768"
      },
      "source": [
        "# user input\n",
        "user_input = \"text, Relaxed, Violet, Aroused, Creative, Happy, Energetic, Flowery, Diesel\"\n",
        "\n",
        "# ominbus function\n",
        "def predict(user_input):\n",
        "\n",
        "  # install basilica\n",
        "  #!pip install basilica\n",
        "\n",
        "  import basilica\n",
        "  import numpy as np\n",
        "  import pandas as pd\n",
        "  from scipy import spatial\n",
        "\n",
        "  # get data\n",
        "  #!wget https://raw.githubusercontent.com/MedCabinet/ML_Machine_Learning_Files/master/med1.csv\n",
        "  # turn data into dataframe\n",
        "  df = pd.read_csv('med1.csv')\n",
        "\n",
        "  # get pickled trained embeddings for med cultivars\n",
        "  #!wget https://github.com/lineality/4.4_Build_files/raw/master/medembedv2.pkl\n",
        "  #unpickling file of embedded cultivar descriptions\n",
        "  unpickled_df_test = pd.read_pickle(\"./medembedv2.pkl\")\n",
        "\n",
        "\n",
        "\n",
        "\n",
        "\n",
        "  # Part 1\n",
        "  # maybe make a function to perform the last few steps\n",
        "\n",
        "  # a function to calculate_user_text_embedding\n",
        "  # to save the embedding value in session memory\n",
        "  user_input_embedding = 0\n",
        "\n",
        "  def calculate_user_text_embedding(input, user_input_embedding):\n",
        "\n",
        "    # setting a string of two sentences for the algo to compare\n",
        "    sentences = [input]\n",
        "\n",
        "    # calculating embedding for both user_entered_text and for features\n",
        "    with basilica.Connection('36a370e3-becb-99f5-93a0-a92344e78eab') as c:\n",
        "      user_input_embedding = list(c.embed_sentences(sentences))\n",
        "    \n",
        "    return user_input_embedding\n",
        "\n",
        "  # run the function to save the embedding value in session memory\n",
        "  user_input_embedding = calculate_user_text_embedding(user_input, user_input_embedding)\n",
        "\n",
        "\n",
        "\n",
        "\n",
        "  # part 2\n",
        "  score = 0\n",
        "\n",
        "  def score_user_input_from_stored_embedding_from_stored_values(input, score, row1, user_input_embedding):\n",
        "\n",
        "    # obtains pre-calculated values from a pickled dataframe of arrays\n",
        "    embedding_stored = unpickled_df_test.loc[row1, 0]\n",
        "    \n",
        "    # calculates the similarity of user_text vs. product description\n",
        "    score = 1 - spatial.distance.cosine(embedding_stored, user_input_embedding)\n",
        "\n",
        "    # returns a variable that can be used outside of the function\n",
        "    return score\n",
        "\n",
        "\n",
        "  # Part 3\n",
        "  for i in range(2351):\n",
        "    # calls the function to set the value of 'score'\n",
        "    # which is the score of the user input\n",
        "    score = score_user_input_from_stored_embedding_from_stored_values(user_input, score, i, user_input_embedding)\n",
        "    \n",
        "    #stores the score in the dataframe\n",
        "    df.loc[i,'score'] = score\n",
        "\n",
        "\n",
        "  # Part 4\n",
        "  output = df['Strain'].groupby(df['score']).value_counts().nlargest(6, keep='last')\n",
        "  #print(output)\n",
        "  output_string = str(output)\n",
        "  #print(output_string)\n",
        "  import re\n",
        "  output_regex = re.sub(r'[^a-zA-Z ]', '', output_string)\n",
        "  output_string_clipped = output_regex[39:-28]\n",
        "\n",
        "\n",
        "  # Part 5: output\n",
        "  return output_string_clipped\n",
        "\n",
        "predict(user_input)"
      ],
      "execution_count": 23,
      "outputs": [
        {
          "output_type": "execute_result",
          "data": {
            "text/plain": [
              "'      WhiteWidow      PurpleDiesel       BlueMonster        DeadheadOg         KaliDog   '"
            ]
          },
          "metadata": {
            "tags": []
          },
          "execution_count": 23
        }
      ]
    },
    {
      "cell_type": "code",
      "metadata": {
        "id": "EKas4EuM0MFJ",
        "colab_type": "code",
        "colab": {}
      },
      "source": [
        "'score     Strain        \\n0.905756  B-Witched"
      ],
      "execution_count": 0,
      "outputs": []
    },
    {
      "cell_type": "code",
      "metadata": {
        "id": "9nej0HK52Zi2",
        "colab_type": "code",
        "colab": {
          "base_uri": "https://localhost:8080/",
          "height": 35
        },
        "outputId": "9a4e1041-0b89-4cf1-e74b-55a9a5d53fd9"
      },
      "source": [
        "# user input\n",
        "user_input = \"text, Relaxed, Violet, Aroused, Creative, Happy, Energetic, Flowery, Diesel\"\n",
        "\n",
        "# ominbus function\n",
        "def predict(user_input):\n",
        "\n",
        "  # install basilica\n",
        "  #!pip install basilica\n",
        "\n",
        "  import basilica\n",
        "  import numpy as np\n",
        "  import pandas as pd\n",
        "  from scipy import spatial\n",
        "\n",
        "  # get data\n",
        "  #!wget https://raw.githubusercontent.com/MedCabinet/ML_Machine_Learning_Files/master/med1.csv\n",
        "  # turn data into dataframe\n",
        "  df = pd.read_csv('med1.csv')\n",
        "\n",
        "  # get pickled trained embeddings for med cultivars\n",
        "  #!wget https://github.com/lineality/4.4_Build_files/raw/master/medembedv2.pkl\n",
        "  #unpickling file of embedded cultivar descriptions\n",
        "  unpickled_df_test = pd.read_pickle(\"./medembedv2.pkl\")\n",
        "\n",
        "\n",
        "\n",
        "\n",
        "\n",
        "  # Part 1\n",
        "  # maybe make a function to perform the last few steps\n",
        "\n",
        "  # a function to calculate_user_text_embedding\n",
        "  # to save the embedding value in session memory\n",
        "  user_input_embedding = 0\n",
        "\n",
        "  def calculate_user_text_embedding(input, user_input_embedding):\n",
        "\n",
        "    # setting a string of two sentences for the algo to compare\n",
        "    sentences = [input]\n",
        "\n",
        "    # calculating embedding for both user_entered_text and for features\n",
        "    with basilica.Connection('36a370e3-becb-99f5-93a0-a92344e78eab') as c:\n",
        "      user_input_embedding = list(c.embed_sentences(sentences))\n",
        "    \n",
        "    return user_input_embedding\n",
        "\n",
        "  # run the function to save the embedding value in session memory\n",
        "  user_input_embedding = calculate_user_text_embedding(user_input, user_input_embedding)\n",
        "\n",
        "\n",
        "\n",
        "\n",
        "  # part 2\n",
        "  score = 0\n",
        "\n",
        "  def score_user_input_from_stored_embedding_from_stored_values(input, score, row1, user_input_embedding):\n",
        "\n",
        "    # obtains pre-calculated values from a pickled dataframe of arrays\n",
        "    embedding_stored = unpickled_df_test.loc[row1, 0]\n",
        "    \n",
        "    # calculates the similarity of user_text vs. product description\n",
        "    score = 1 - spatial.distance.cosine(embedding_stored, user_input_embedding)\n",
        "\n",
        "    # returns a variable that can be used outside of the function\n",
        "    return score\n",
        "\n",
        "\n",
        "  # Part 3\n",
        "  for i in range(2351):\n",
        "    # calls the function to set the value of 'score'\n",
        "    # which is the score of the user input\n",
        "    score = score_user_input_from_stored_embedding_from_stored_values(user_input, score, i, user_input_embedding)\n",
        "    \n",
        "    #stores the score in the dataframe\n",
        "    df.loc[i,'score'] = score\n",
        "\n",
        "  # Part 4\n",
        "  output = df['Strain'].groupby(df['score']).value_counts().nlargest(6, keep='last')\n",
        "  #print(output)\n",
        "  #print(output[1:])\n",
        "  output_string = str(output)\n",
        "  #print(type(output))\n",
        "  #print(output.shape)\n",
        "  #print(output_string)\n",
        "  import re\n",
        "  output_regex = re.sub(r'[^a-zA-Z ^0-9 ^.]', '', output_string)\n",
        "  #print(output_regex)\n",
        "  output_string_clipped = output_regex[50:-28]\n",
        "  #print(output_string_clipped)\n",
        "  # Part 5: output\n",
        "  return output_string_clipped\n",
        "\n",
        "predict(user_input)"
      ],
      "execution_count": 34,
      "outputs": [
        {
          "output_type": "execute_result",
          "data": {
            "text/plain": [
              "' 20.983573  98WhiteWidow    10.969837  PurpleDiesel     10.964103  BlueMonster      10.962950  DeadheadOg       10.961727  KaliDog      '"
            ]
          },
          "metadata": {
            "tags": []
          },
          "execution_count": 34
        }
      ]
    },
    {
      "cell_type": "code",
      "metadata": {
        "id": "KWnDJprr22V9",
        "colab_type": "code",
        "colab": {}
      },
      "source": [
        "'score     Strain        0.905756  BWitched"
      ],
      "execution_count": 0,
      "outputs": []
    }
  ]
}